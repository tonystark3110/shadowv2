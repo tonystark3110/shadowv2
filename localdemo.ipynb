{
 "cells": [
  {
   "cell_type": "code",
   "execution_count": null,
   "source": [
    "from __future__ import division\r\n",
    "%matplotlib inline\r\n",
    "\r\n",
    "\r\n",
    "# ignore warning\r\n",
    "import warnings\r\n",
    "warnings.filterwarnings('ignore')\r\n",
    "\r\n",
    "import os,time,cv2,scipy.io\r\n",
    "import tensorflow as tf\r\n",
    "import numpy as np\r\n",
    "import matplotlib.pyplot as plt\r\n",
    "from networks import build_aggasatt_joint\r\n",
    "import scipy.stats as st\r\n",
    "tf.compat.v1.reset_default_graph()\r\n",
    "tf.compat.v1.disable_eager_execution()\r\n",
    "\r\n",
    "vgg19_path = 'C:/Users/manik/Desktop/edited v2/Models/imagenet-vgg-verydeep-19.mat'\r\n",
    "pretrain_model_path = 'C:/Users/manik/Desktop/edited v2/Models/srdplus-pretrained/srdplus-pretrained'\r\n",
    "\r\n",
    "with tf.compat.v1.variable_scope(tf.compat.v1.get_variable_scope()):\r\n",
    "    input=tf.compat.v1.placeholder(tf.float32,shape=[None,None,None,3])\r\n",
    "    shadow_free_image=build_aggasatt_joint(input,64,vgg19_path)\r\n",
    "\r\n",
    "sess=tf.compat.v1.Session()\r\n",
    "sess.run(tf.compat.v1.global_variables_initializer())\r\n",
    "idtd_ckpt=tf.train.get_checkpoint_state(pretrain_model_path)\r\n",
    "saver_restore=tf.compat.v1.train.Saver([var for var in tf.compat.v1.trainable_variables()])\r\n",
    "print('loaded '+idtd_ckpt.model_checkpoint_path)\r\n",
    "saver_restore.restore(sess,idtd_ckpt.model_checkpoint_path)\r\n"
   ],
   "outputs": [],
   "metadata": {}
  },
  {
   "cell_type": "code",
   "execution_count": null,
   "source": [
    "import matplotlib.pyplot as plt\r\n",
    "plt.rcParams[\"figure.figsize\"] = (24,6)\r\n",
    "\r\n",
    "imgs = [os.path.join('Samples',x) for x in os.listdir('Samples') if '.jpg' in x or '.png' in x]\r\n",
    "\r\n",
    "for img_path in imgs:\r\n",
    "\r\n",
    "    plt.figure()\r\n",
    "    plt.axis('off')\r\n",
    "    \r\n",
    "    iminput=cv2.imread(img_path,-1)\r\n",
    "\r\n",
    "    imoutput = sess.run(shadow_free_image,feed_dict={input:np.expand_dims(iminput/255.,axis=0)})\r\n",
    "\r\n",
    "    imoutput = np.uint8(np.squeeze(np.minimum(np.maximum(imoutput[0],0.0),1.0))*255.0)\r\n",
    "\r\n",
    "    imcompare = np.concatenate([iminput,imoutput],axis=1)\r\n",
    "\r\n",
    "    # bgr->rgb\r\n",
    "    plt.imshow(imcompare[...,::-1])\r\n",
    "    plt.show()"
   ],
   "outputs": [],
   "metadata": {}
  }
 ],
 "metadata": {
  "orig_nbformat": 4,
  "language_info": {
   "name": "python",
   "version": "3.9.7",
   "mimetype": "text/x-python",
   "codemirror_mode": {
    "name": "ipython",
    "version": 3
   },
   "pygments_lexer": "ipython3",
   "nbconvert_exporter": "python",
   "file_extension": ".py"
  },
  "kernelspec": {
   "name": "python3",
   "display_name": "Python 3.9.7 64-bit"
  },
  "interpreter": {
   "hash": "9b35a05bccf52fea4dfdf800e1a1d334ba660a124202c43417415bebb83c0a10"
  }
 },
 "nbformat": 4,
 "nbformat_minor": 2
}